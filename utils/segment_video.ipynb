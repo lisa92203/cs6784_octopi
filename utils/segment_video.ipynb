{
 "cells": [
  {
   "cell_type": "code",
   "execution_count": 15,
   "metadata": {},
   "outputs": [],
   "source": [
    "import cv2\n",
    "import datetime\n",
    "import os"
   ]
  },
  {
   "cell_type": "code",
   "execution_count": 16,
   "metadata": {},
   "outputs": [],
   "source": [
    "def split_video(video_path, gt_path, output_dir):\n",
    "\n",
    "    cap = cv2.VideoCapture(video_path)\n",
    "    fps = cap.get(cv2.CAP_PROP_FPS)\n",
    "\n",
    "    with open(gt_path, 'r') as f:\n",
    "        label_counts = {}\n",
    "        for line in f:\n",
    "            start_time, end_time, label = line.strip().split('-')\n",
    "            start_time = datetime.datetime.strptime(start_time, '%Y/%m/%d %H:%M:%S.%f')\n",
    "            end_time = datetime.datetime.strptime(end_time, '%Y/%m/%d %H:%M:%S.%f')\n",
    "\n",
    "\n",
    "            start_frame = int(start_time.timestamp() * fps)\n",
    "            end_frame = int(end_time.timestamp() * fps)\n",
    "\n",
    "            cap.set(cv2.CAP_PROP_POS_FRAMES, start_frame)\n",
    "\n",
    "            if label not in label_counts:\n",
    "                label_counts[label] = 0\n",
    "            label_counts[label] += 1\n",
    "            \n",
    "            segment_num = label_counts[label] - 1\n",
    "            out_path = f\"{output_dir}/{label}_{segment_num}.mp4\"\n",
    "            out = cv2.VideoWriter(out_path, cv2.VideoWriter_fourcc(*'mp4v'), fps, (int(cap.get(cv2.CAP_PROP_FRAME_WIDTH)), int(cap.get(cv2.CAP_PROP_FRAME_HEIGHT))))\n",
    "\n",
    "            while True:\n",
    "                ret, frame = cap.read()\n",
    "                if not ret:\n",
    "                    break\n",
    "\n",
    "\n",
    "                if cap.get(cv2.CAP_PROP_POS_FRAMES) > end_frame:\n",
    "                    break\n",
    "\n",
    "                out.write(frame)\n",
    "\n",
    "            out.release()"
   ]
  },
  {
   "cell_type": "code",
   "execution_count": null,
   "metadata": {},
   "outputs": [],
   "source": [
    "video_path = \"/Users/chijunglee/Downloads/video/trainval/cam1/subject1/scene1/session1/20181016-133948.mp4\"\n",
    "gt_path = \"/Users/chijunglee/Downloads/annotation/trainval/subject1/scene1/session1/subject1_scene1_session1.txt\"\n",
    "output_dir = \"/Users/chijunglee/Downloads/video_segments\"\n",
    "\n",
    "split_video(video_path, gt_path, output_dir)"
   ]
  },
  {
   "cell_type": "code",
   "execution_count": null,
   "metadata": {},
   "outputs": [],
   "source": [
    "root_dir = \"/Users/chijunglee/Downloads/video/trainval\"\n",
    "output_dir = \"/Users/chijunglee/Downloads/video_segments\"\n",
    "\n",
    "for path, subdirs, files in os.walk(root_dir):\n",
    "   for filename in files:\n",
    "      if filename.endswith(\".mp4\"):  \n",
    "        video_path = os.path.join(path, filename)\n",
    "        gt_filename = f\"{path.split('/')[-3]}_{path.split('/')[-2]}_{path.split('/')[-1]}.txt\"\n",
    "        gt_path = os.path.join(\"/\".join(path.split('/')[:-6]), \"annotation\", path.split('/')[-5], \"/\".join(path.split('/')[-3:]), gt_filename)\n",
    "        \n",
    "        print(video_path)\n",
    "        print(gt_path)"
   ]
  },
  {
   "cell_type": "code",
   "execution_count": null,
   "metadata": {},
   "outputs": [
    {
     "name": "stdout",
     "output_type": "stream",
     "text": [
      "150537\n",
      "1969-12-31 19:00:00\n",
      "False\n"
     ]
    },
    {
     "ename": "error",
     "evalue": "OpenCV(4.6.0) /croot/opencv-suite_1676452025216/work/modules/imgcodecs/src/loadsave.cpp:801: error: (-215:Assertion failed) !_img.empty() in function 'imwrite'\n",
     "output_type": "error",
     "traceback": [
      "\u001b[0;31m---------------------------------------------------------------------------\u001b[0m",
      "\u001b[0;31merror\u001b[0m                                     Traceback (most recent call last)",
      "Cell \u001b[0;32mIn[27], line 36\u001b[0m\n\u001b[1;32m     33\u001b[0m \u001b[38;5;28mprint\u001b[39m(success)\n\u001b[1;32m     35\u001b[0m \u001b[38;5;66;03m# Saves the frames with frame-count \u001b[39;00m\n\u001b[0;32m---> 36\u001b[0m \u001b[43mcv2\u001b[49m\u001b[38;5;241;43m.\u001b[39;49m\u001b[43mimwrite\u001b[49m\u001b[43m(\u001b[49m\u001b[38;5;124;43m\"\u001b[39;49m\u001b[38;5;124;43mframe\u001b[39;49m\u001b[38;5;132;43;01m%d\u001b[39;49;00m\u001b[38;5;124;43m.jpg\u001b[39;49m\u001b[38;5;124;43m\"\u001b[39;49m\u001b[43m \u001b[49m\u001b[38;5;241;43m%\u001b[39;49m\u001b[43m \u001b[49m\u001b[38;5;241;43m0\u001b[39;49m\u001b[43m,\u001b[49m\u001b[43m \u001b[49m\u001b[43mimage\u001b[49m\u001b[43m)\u001b[49m \n\u001b[1;32m     38\u001b[0m \u001b[38;5;28;01mbreak\u001b[39;00m\n",
      "\u001b[0;31merror\u001b[0m: OpenCV(4.6.0) /croot/opencv-suite_1676452025216/work/modules/imgcodecs/src/loadsave.cpp:801: error: (-215:Assertion failed) !_img.empty() in function 'imwrite'\n"
     ]
    }
   ],
   "source": [
    "root_dir = \"/data3/cj/CS6784-Data/video/trainval\"\n",
    "output_dir = \"/data3/cj/CS6784-Data/video_segments\"\n",
    "\n",
    "label_counts = {}\n",
    "for path, subdirs, files in os.walk(root_dir):\n",
    "    for filename in files:\n",
    "      if filename.endswith(\".mp4\"):  \n",
    "        video_path = os.path.join(path, filename)\n",
    "        gt_filename = f\"{path.split('/')[-3]}_{path.split('/')[-2]}_{path.split('/')[-1]}.txt\"\n",
    "        gt_path = os.path.join(\"/\".join(path.split('/')[:-6]), \"annotation\", path.split('/')[-5], \"/\".join(path.split('/')[-3:]), gt_filename)\n",
    "        \n",
    "        # print(video_path)\n",
    "        # print(gt_path)\n",
    "\n",
    "        cap = cv2.VideoCapture(video_path)\n",
    "        fps = cap.get(cv2.CAP_PROP_FPS)\n",
    "\n",
    "        with open(gt_path, 'r') as f:\n",
    "            for line in f:\n",
    "                start_time, end_time, label = line.strip().split('-')\n",
    "                start_time = datetime.datetime.strptime(start_time, '%Y/%m/%d %H:%M:%S.%f')\n",
    "                end_time = datetime.datetime.strptime(end_time, '%Y/%m/%d %H:%M:%S.%f')\n",
    "\n",
    "                start_frame = int(start_time.timestamp() * fps)\n",
    "                end_frame = int(end_time.timestamp() * fps)\n",
    "\n",
    "                cap.set(cv2.CAP_PROP_POS_FRAMES, start_frame)\n",
    "                success, image = cap.read() \n",
    "                print(success)\n",
    "  \n",
    "                cv2.imwrite(\"frame%d.jpg\" % 0, image) \n",
    "\n",
    "                if label not in label_counts:\n",
    "                    label_counts[label] = 0\n",
    "                label_counts[label] += 1\n",
    "                \n",
    "                segment_num = label_counts[label] - 1\n",
    "                out_path = f\"{output_dir}/{label}_{segment_num}.mp4\"\n",
    "                out = cv2.VideoWriter(out_path, cv2.VideoWriter_fourcc(*'mp4v'), fps, (int(cap.get(cv2.CAP_PROP_FRAME_WIDTH)), int(cap.get(cv2.CAP_PROP_FRAME_HEIGHT))))\n",
    "\n",
    "                while True:\n",
    "                    ret, frame = cap.read()\n",
    "                    if not ret:\n",
    "                        break\n",
    "\n",
    "\n",
    "                    if cap.get(cv2.CAP_PROP_POS_FRAMES) > end_frame:\n",
    "                        break\n",
    "\n",
    "                    out.write(frame)\n",
    "\n",
    "                out.release()"
   ]
  },
  {
   "cell_type": "code",
   "execution_count": null,
   "metadata": {},
   "outputs": [],
   "source": []
  }
 ],
 "metadata": {
  "kernelspec": {
   "display_name": "acoustic",
   "language": "python",
   "name": "python3"
  },
  "language_info": {
   "codemirror_mode": {
    "name": "ipython",
    "version": 3
   },
   "file_extension": ".py",
   "mimetype": "text/x-python",
   "name": "python",
   "nbconvert_exporter": "python",
   "pygments_lexer": "ipython3",
   "version": "3.10.13"
  }
 },
 "nbformat": 4,
 "nbformat_minor": 2
}
