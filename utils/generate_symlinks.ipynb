{
 "cells": [
  {
   "cell_type": "code",
   "execution_count": 2,
   "metadata": {},
   "outputs": [],
   "source": [
    "import os\n",
    "import cv2"
   ]
  },
  {
   "cell_type": "code",
   "execution_count": null,
   "metadata": {},
   "outputs": [],
   "source": [
    "root_dir = \"/data3/cj/CS6784-Data/original_videos\"\n",
    "output_dir = \"/data3/cj/CS6784-Data/video_segments\"\n",
    "\n",
    "label_counts = {}\n",
    "for path, subdirs, files in os.walk(root_dir):\n",
    "    for filename in files:\n",
    "        if filename.endswith(\".mp4\"):\n",
    "            video_path = os.path.join(path, filename)\n",
    "\n",
    "            label = filename.split('.')[0]\n",
    "            if label not in label_counts:\n",
    "                label_counts[label] = 0\n",
    "            label_counts[label] += 1\n",
    "            \n",
    "            segment_num = label_counts[label] - 1\n",
    "            out_path = f\"{output_dir}/{label}_{segment_num}.mp4\"\n",
    "\n",
    "            os.symlink(video_path, out_path)"
   ]
  },
  {
   "cell_type": "code",
   "execution_count": 8,
   "metadata": {},
   "outputs": [],
   "source": [
    "root_dir = \"/data3/cj/CS6784-Data/original_videos\"\n",
    "output_dir = \"/data3/cj/CS6784-Data/video_segments_cam1\"\n",
    "width = 480\n",
    "height = 270\n",
    "\n",
    "label_counts = {}\n",
    "for path, subdirs, files in os.walk(root_dir):\n",
    "    for filename in files:\n",
    "        if path.split('/')[-3] == \"cam1\":\n",
    "            if filename.endswith(\".mp4\"):\n",
    "                video_path = os.path.join(path, filename)\n",
    "\n",
    "                label = filename.split('.')[0]\n",
    "                if label not in label_counts:\n",
    "                    label_counts[label] = 0\n",
    "                label_counts[label] += 1\n",
    "                \n",
    "                segment_num = label_counts[label] - 1\n",
    "                out_path = f\"{output_dir}/{label}_{segment_num}.mp4\"\n",
    "\n",
    "                cap = cv2.VideoCapture(video_path)\n",
    "                fps = cap.get(cv2.CAP_PROP_FPS)\n",
    "\n",
    "                fourcc = cv2.VideoWriter_fourcc(*'mp4v')\n",
    "                out = cv2.VideoWriter(out_path, fourcc, fps, (width, height))\n",
    "\n",
    "                while True:\n",
    "                    ret, frame = cap.read()\n",
    "                    if not ret:\n",
    "                        break\n",
    "\n",
    "                    resized_frame = cv2.resize(frame, (width, height), interpolation=cv2.INTER_AREA)\n",
    "\n",
    "                    out.write(resized_frame)\n",
    "\n",
    "                cap.release()\n",
    "                out.release()\n",
    "                cv2.destroyAllWindows()"
   ]
  },
  {
   "cell_type": "code",
   "execution_count": 3,
   "metadata": {},
   "outputs": [
    {
     "name": "stdout",
     "output_type": "stream",
     "text": [
      "\"physiclear_running\": \"a person is running\",\n",
      "\"physiclear_transferring_object\": \"a person is transferring_object\",\n",
      "\"physiclear_opening\": \"a person is opening\",\n",
      "\"physiclear_exiting\": \"a person is exiting\",\n",
      "\"physiclear_checking_time\": \"a person is checking_time\",\n",
      "\"physiclear_pointing\": \"a person is pointing\",\n",
      "\"physiclear_standing\": \"a person is standing\",\n",
      "\"physiclear_waving_hand\": \"a person is waving_hand\",\n",
      "\"physiclear_pushing\": \"a person is pushing\",\n",
      "\"physiclear_kicking\": \"a person is kicking\",\n",
      "\"physiclear_looking_around\": \"a person is looking_around\",\n",
      "\"physiclear_carrying\": \"a person is carrying\",\n",
      "\"physiclear_closing\": \"a person is closing\",\n",
      "\"physiclear_loitering\": \"a person is loitering\",\n",
      "\"physiclear_talking_on_phone\": \"a person is talking_on_phone\",\n",
      "\"physiclear_picking_up\": \"a person is picking_up\",\n",
      "\"physiclear_pulling\": \"a person is pulling\",\n",
      "\"physiclear_using_phone\": \"a person is using_phone\",\n",
      "\"physiclear_crouching\": \"a person is crouching\",\n",
      "\"physiclear_entering\": \"a person is entering\",\n",
      "\"physiclear_throwing\": \"a person is throwing\",\n",
      "\"physiclear_jumping\": \"a person is jumping\",\n",
      "\"physiclear_fall\": \"a person is fall\",\n",
      "\"physiclear_talking\": \"a person is talking\",\n",
      "\"physiclear_setting_down\": \"a person is setting_down\",\n",
      "\"physiclear_walking\": \"a person is walking\",\n",
      "\"physiclear_sitting\": \"a person is sitting\",\n",
      "\"physiclear_pocket_out\": \"a person is pocket_out\",\n",
      "\"physiclear_sitting_down\": \"a person is sitting_down\",\n",
      "\"physiclear_pocket_in\": \"a person is pocket_in\",\n",
      "\"physiclear_drinking\": \"a person is drinking\",\n",
      "\"physiclear_using_pc\": \"a person is using_pc\",\n",
      "\"physiclear_standing_up\": \"a person is standing_up\",\n",
      "\"physiclear_carrying_heavy\": \"a person is carrying_heavy\",\n",
      "\"physiclear_carrying_light\": \"a person is carrying_light\",\n",
      "\"physiclear_Carrying_light\": \"a person is Carrying_light\",\n"
     ]
    }
   ],
   "source": [
    "root_dir = \"/data3/cj/CS6784-Data/original_videos\"\n",
    "output_dir = \"/data3/cj/CS6784-Data/video_segments\"\n",
    "\n",
    "label_counts = {}\n",
    "for path, subdirs, files in os.walk(root_dir):\n",
    "    for filename in files:\n",
    "        if filename.endswith(\".mp4\"):\n",
    "            video_path = os.path.join(path, filename)\n",
    "\n",
    "            # print(video_path)\n",
    "\n",
    "            label = filename.split('.')[0]\n",
    "            if label not in label_counts:\n",
    "                label_counts[label] = 0\n",
    "            \n",
    "                print(f\"\\\"physiclear_{label}\\\": \\\"a person is {label}\\\",\")"
   ]
  },
  {
   "cell_type": "code",
   "execution_count": null,
   "metadata": {},
   "outputs": [],
   "source": [
    "root_dir = \"/data3/cj/CS6784-Data/Originals\"\n",
    "output_dir = \"/data3/cj/CS6784-Data/video_segments\"\n",
    "\n",
    "label_counts = {}\n",
    "for path, subdirs, files in os.walk(root_dir):\n",
    "    for filename in files:\n",
    "        if filename.endswith(\".mp4\"):\n",
    "            video_path = os.path.join(path, filename)\n",
    "\n",
    "            # print(video_path)\n",
    "\n",
    "            label = filename.split('.')[0]\n",
    "            if label not in label_counts:\n",
    "                label_counts[label] = 0\n",
    "            \n",
    "                print(f\"\\\"physiclear_{label}\\\",\")"
   ]
  }
 ],
 "metadata": {
  "kernelspec": {
   "display_name": "acoustic",
   "language": "python",
   "name": "python3"
  },
  "language_info": {
   "codemirror_mode": {
    "name": "ipython",
    "version": 3
   },
   "file_extension": ".py",
   "mimetype": "text/x-python",
   "name": "python",
   "nbconvert_exporter": "python",
   "pygments_lexer": "ipython3",
   "version": "3.10.13"
  }
 },
 "nbformat": 4,
 "nbformat_minor": 2
}
